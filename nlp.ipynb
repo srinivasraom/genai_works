{
  "nbformat": 4,
  "nbformat_minor": 0,
  "metadata": {
    "colab": {
      "provenance": []
    },
    "kernelspec": {
      "name": "python3",
      "display_name": "Python 3"
    },
    "language_info": {
      "name": "python"
    }
  },
  "cells": [
    {
      "cell_type": "code",
      "execution_count": null,
      "metadata": {
        "id": "0eqwL0G3HcpI"
      },
      "outputs": [],
      "source": []
    },
    {
      "cell_type": "code",
      "source": [
        "import spacy\n",
        "nlp = spacy.load('en_core_web_sm')"
      ],
      "metadata": {
        "id": "6FSPmt_DHm7W"
      },
      "execution_count": null,
      "outputs": []
    },
    {
      "cell_type": "code",
      "source": [
        "text = \"Srinivas loves fruits and vegetables. He buys them every Sunday.\"\n",
        "doc = nlp(text)"
      ],
      "metadata": {
        "id": "yXkXNmbQH-eq"
      },
      "execution_count": null,
      "outputs": []
    },
    {
      "cell_type": "code",
      "source": [
        "tokens = [token.text for token in doc]\n",
        "print(\"Tokens:\", tokens)"
      ],
      "metadata": {
        "colab": {
          "base_uri": "https://localhost:8080/"
        },
        "id": "7B8ux4m3IPko",
        "outputId": "8dc3b9bd-c6e6-491a-e44b-69209ec0b164"
      },
      "execution_count": null,
      "outputs": [
        {
          "output_type": "stream",
          "name": "stdout",
          "text": [
            "Tokens: ['Srinivas', 'loves', 'fruits', 'and', 'vegetables', '.', 'He', 'buys', 'them', 'every', 'Sunday', '.']\n"
          ]
        }
      ]
    },
    {
      "cell_type": "code",
      "source": [
        "entities = [(entity.text, entity.label_) for entity in doc.ents]\n",
        "print(\"Named Entities:\", entities)"
      ],
      "metadata": {
        "colab": {
          "base_uri": "https://localhost:8080/"
        },
        "id": "j7Pm1JUJIdjq",
        "outputId": "d11f2051-d705-4896-cf4f-09bb9bead4f5"
      },
      "execution_count": null,
      "outputs": [
        {
          "output_type": "stream",
          "name": "stdout",
          "text": [
            "Named Entities: [('Srinivas', 'PRODUCT'), ('every Sunday', 'DATE')]\n"
          ]
        }
      ]
    },
    {
      "cell_type": "code",
      "source": [
        "pos_tags = [(token.text, token.pos_) for token in doc]\n",
        "print(\"POS Tags:\", pos_tags)"
      ],
      "metadata": {
        "colab": {
          "base_uri": "https://localhost:8080/"
        },
        "id": "4TO6tsQhJTrH",
        "outputId": "43cc8199-5274-4dec-c360-df3e39e9bbc8"
      },
      "execution_count": null,
      "outputs": [
        {
          "output_type": "stream",
          "name": "stdout",
          "text": [
            "POS Tags: [('Srinivas', 'PROPN'), ('loves', 'VERB'), ('fruits', 'NOUN'), ('and', 'CCONJ'), ('vegetables', 'NOUN'), ('.', 'PUNCT'), ('He', 'PRON'), ('buys', 'VERB'), ('them', 'PRON'), ('every', 'DET'), ('Sunday', 'PROPN'), ('.', 'PUNCT')]\n"
          ]
        }
      ]
    }
  ]
}