{
 "cells": [
  {
   "cell_type": "code",
   "execution_count": 9,
   "id": "d60c5a6a-08fe-455e-92a4-8c2c4a228700",
   "metadata": {},
   "outputs": [
    {
     "name": "stdout",
     "output_type": "stream",
     "text": [
      "env: TOKENIZERS_PARALLELISM=true\n"
     ]
    }
   ],
   "source": [
    "import warnings\n",
    "warnings.filterwarnings(\"ignore\")\n",
    "%env TOKENIZERS_PARALLELISM=true"
   ]
  },
  {
   "cell_type": "code",
   "execution_count": 15,
   "id": "078b0fda-0141-4d4c-a3e1-40353774a0da",
   "metadata": {},
   "outputs": [],
   "source": [
    "# Typing imports\n",
    "from typing import Any, Dict\n",
    "\n",
    "# Imports needed for building a chatbot\n",
    "from openai import OpenAI\n",
    "from helper import RAGChatWidget, SimpleVectorDB\n",
    "\n",
    "# Guardrails imports\n",
    "from guardrails import Guard, OnFailAction, settings\n",
    "from guardrails.validator_base import (\n",
    "    FailResult,\n",
    "    PassResult,\n",
    "    ValidationResult,\n",
    "    Validator,\n",
    "    register_validator,\n",
    ")"
   ]
  },
  {
   "cell_type": "code",
   "execution_count": 11,
   "id": "c4ceecaa-2a14-49c6-9993-a1a136f42356",
   "metadata": {},
   "outputs": [],
   "source": [
    "# Setup an OpenAI client\n",
    "client = OpenAI()"
   ]
  },
  {
   "cell_type": "code",
   "execution_count": null,
   "id": "c11b556d-4eb2-499d-b943-41d3d8f57567",
   "metadata": {},
   "outputs": [],
   "source": []
  },
  {
   "cell_type": "code",
   "execution_count": 12,
   "id": "fcfc58f3-c5bc-4e0e-a0de-2b2180a3da62",
   "metadata": {},
   "outputs": [],
   "source": [
    "vector_db = SimpleVectorDB.from_files(\"shared_data/\")"
   ]
  },
  {
   "cell_type": "code",
   "execution_count": 13,
   "id": "4a1e935d-4288-4dcf-b0e1-5caf66e707f1",
   "metadata": {},
   "outputs": [],
   "source": [
    "# Setup RAG chabot\n",
    "rag_chatbot = RAGChatWidget(\n",
    "    client=client,\n",
    "    system_message=system_message,\n",
    "    vector_db=vector_db,\n",
    ")"
   ]
  },
  {
   "cell_type": "code",
   "execution_count": 14,
   "id": "e7916d1d-a6ea-4494-bdc0-5ddddb5344d9",
   "metadata": {},
   "outputs": [
    {
     "data": {
      "application/vnd.jupyter.widget-view+json": {
       "model_id": "ab80eb05a743401787ac41113dc90b38",
       "version_major": 2,
       "version_minor": 0
      },
      "text/plain": [
       "VBox(children=(VBox(layout=Layout(max_height='300px')), HBox(children=(Textarea(value='', continuous_update=Fa…"
      ]
     },
     "metadata": {},
     "output_type": "display_data"
    }
   ],
   "source": [
    "rag_chatbot.display()"
   ]
  },
  {
   "cell_type": "code",
   "execution_count": null,
   "id": "38af8fa4-9df9-4181-8754-b9056828673f",
   "metadata": {},
   "outputs": [],
   "source": []
  }
 ],
 "metadata": {
  "kernelspec": {
   "display_name": "Python 3 (ipykernel)",
   "language": "python",
   "name": "python3"
  },
  "language_info": {
   "codemirror_mode": {
    "name": "ipython",
    "version": 3
   },
   "file_extension": ".py",
   "mimetype": "text/x-python",
   "name": "python",
   "nbconvert_exporter": "python",
   "pygments_lexer": "ipython3",
   "version": "3.12.3"
  }
 },
 "nbformat": 4,
 "nbformat_minor": 5
}
