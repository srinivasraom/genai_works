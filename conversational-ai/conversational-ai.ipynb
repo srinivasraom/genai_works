{
 "cells": [
  {
   "cell_type": "code",
   "execution_count": 47,
   "id": "d60c5a6a-08fe-455e-92a4-8c2c4a228700",
   "metadata": {},
   "outputs": [
    {
     "name": "stdout",
     "output_type": "stream",
     "text": [
      "env: TOKENIZERS_PARALLELISM=true\n"
     ]
    }
   ],
   "source": [
    "import warnings\n",
    "warnings.filterwarnings(\"ignore\")\n",
    "%env TOKENIZERS_PARALLELISM=true"
   ]
  },
  {
   "cell_type": "code",
   "execution_count": 48,
   "id": "078b0fda-0141-4d4c-a3e1-40353774a0da",
   "metadata": {},
   "outputs": [],
   "source": [
    "# Typing imports\n",
    "from typing import Any, Dict\n",
    "\n",
    "# Imports needed for building a chatbot\n",
    "from openai import OpenAI\n",
    "from helper import RAGChatWidget, SimpleVectorDB\n",
    "\n",
    "# Guardrails imports\n",
    "from guardrails import Guard, OnFailAction, settings\n",
    "from guardrails.validator_base import (\n",
    "    FailResult,\n",
    "    PassResult,\n",
    "    ValidationResult,\n",
    "    Validator,\n",
    "    register_validator,\n",
    ")"
   ]
  },
  {
   "cell_type": "code",
   "execution_count": 49,
   "id": "c4ceecaa-2a14-49c6-9993-a1a136f42356",
   "metadata": {},
   "outputs": [],
   "source": [
    "# Setup an OpenAI client\n",
    "client = OpenAI()\n",
    "\n",
    "# Load up our documents that make up the knowledge base\n",
    "vector_db = SimpleVectorDB.from_files(\"shared_data/\")\n",
    "\n",
    "system_message = \"\"\"\n",
    "You are a helpful chess assistant. You assist the user in playing chess by providing relevant information about the game, suggesting valid moves, and explaining rules and strategies.\n",
    "\n",
    "- When a user makes a move, validate if it's legal, update the game board, and provide feedback.\n",
    "- If the user asks for help or move suggestions, provide strategic recommendations based on the current game state.\n",
    "- If the game reaches a check or checkmate situation, notify the user and explain the game status clearly.\n",
    "- You should be informative and friendly, helping users improve their chess game.\n",
    "- Always ask the user if they want to make another move or if they need help with understanding the game or a rule.\n",
    "- For any move always refresh the chess board displayed\n",
    "- Give a better visual display of chess board\n",
    "- When user make a move, let AI make a move with alert to show user vs AI playing the game.\n",
    "- Always remember both moves and reflect the same in chess board\n",
    "- When a wrong move made assist saying its wrong and explain the chess rules.\n",
    "\n",
    "Your role is to simulate a friendly chess opponent who can explain strategies and guide the player throughout the game.\n",
    "\"\"\""
   ]
  },
  {
   "cell_type": "code",
   "execution_count": 50,
   "id": "236f70bd-5c28-4128-9325-96663adc237e",
   "metadata": {},
   "outputs": [],
   "source": [
    "# Setup RAG chatbot\n",
    "rag_chatbot = RAGChatWidget(\n",
    "    client=client,\n",
    "    system_message=system_message,\n",
    "    vector_db=vector_db,\n",
    ")"
   ]
  },
  {
   "cell_type": "code",
   "execution_count": 51,
   "id": "977d8882-b587-454e-8662-78d6e2c07168",
   "metadata": {},
   "outputs": [
    {
     "data": {
      "application/vnd.jupyter.widget-view+json": {
       "model_id": "874906504c3145eba81e7613951f360d",
       "version_major": 2,
       "version_minor": 0
      },
      "text/plain": [
       "VBox(children=(VBox(layout=Layout(max_height='300px')), HBox(children=(Textarea(value='', continuous_update=Fa…"
      ]
     },
     "metadata": {},
     "output_type": "display_data"
    }
   ],
   "source": [
    "rag_chatbot.display()"
   ]
  },
  {
   "cell_type": "code",
   "execution_count": null,
   "id": "771978ef-5f5e-4550-b6d4-d2c1ab75ed93",
   "metadata": {},
   "outputs": [],
   "source": []
  }
 ],
 "metadata": {
  "kernelspec": {
   "display_name": "Python 3 (ipykernel)",
   "language": "python",
   "name": "python3"
  },
  "language_info": {
   "codemirror_mode": {
    "name": "ipython",
    "version": 3
   },
   "file_extension": ".py",
   "mimetype": "text/x-python",
   "name": "python",
   "nbconvert_exporter": "python",
   "pygments_lexer": "ipython3",
   "version": "3.12.3"
  }
 },
 "nbformat": 4,
 "nbformat_minor": 5
}
